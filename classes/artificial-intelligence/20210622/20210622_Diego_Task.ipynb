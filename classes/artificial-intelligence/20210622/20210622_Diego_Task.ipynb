{
  "nbformat": 4,
  "nbformat_minor": 0,
  "metadata": {
    "colab": {
      "name": "20210622 - Diego Task.ipynb",
      "provenance": [],
      "collapsed_sections": []
    },
    "kernelspec": {
      "name": "python3",
      "display_name": "Python 3"
    },
    "language_info": {
      "name": "python"
    }
  },
  "cells": [
    {
      "cell_type": "code",
      "metadata": {
        "id": "FkR1I6FP7tep"
      },
      "source": [
        "#Create a set of random numbers. Put 200 numbers between 0 and 5. Calculate the probability that we see number 3 in your data."
      ],
      "execution_count": 14,
      "outputs": []
    },
    {
      "cell_type": "code",
      "metadata": {
        "id": "PekmrppE7_1m"
      },
      "source": [
        "import random\n",
        "import numpy as np"
      ],
      "execution_count": 26,
      "outputs": []
    },
    {
      "cell_type": "code",
      "metadata": {
        "id": "ZvrZpIlu9cTc"
      },
      "source": [
        "def Generate():\n",
        "  random_list = []\n",
        "  for i in range(0, 200):\n",
        "    random_list.append(random.randint(0,5))\n",
        "  return random_list\n",
        "  "
      ],
      "execution_count": 27,
      "outputs": []
    },
    {
      "cell_type": "code",
      "metadata": {
        "id": "wp39HBvF-rNO"
      },
      "source": [
        "def Probability(list, value):\n",
        "  npList = np.array(list)\n",
        "  count = np.count_nonzero(npList==value)\n",
        "  total = len(list)\n",
        "  Probability = count / total\n",
        "  return Probability"
      ],
      "execution_count": 28,
      "outputs": []
    },
    {
      "cell_type": "code",
      "metadata": {
        "colab": {
          "base_uri": "https://localhost:8080/"
        },
        "id": "_wAMS4ih9-db",
        "outputId": "41a9d7f5-6eca-4e4e-c038-247505486edb"
      },
      "source": [
        "# generate 10 sets\n",
        "for i in range(0,10):\n",
        "  random_list = Generate()\n",
        "  print(Probability(random_list, 3))"
      ],
      "execution_count": 29,
      "outputs": [
        {
          "output_type": "stream",
          "text": [
            "0.145\n",
            "0.18\n",
            "0.175\n",
            "0.18\n",
            "0.155\n",
            "0.155\n",
            "0.13\n",
            "0.115\n",
            "0.095\n",
            "0.11\n"
          ],
          "name": "stdout"
        }
      ]
    },
    {
      "cell_type": "code",
      "metadata": {
        "id": "M4euHc4I-KGL"
      },
      "source": [
        ""
      ],
      "execution_count": null,
      "outputs": []
    }
  ]
}