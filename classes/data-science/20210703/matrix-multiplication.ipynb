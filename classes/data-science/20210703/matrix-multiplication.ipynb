{
 "cells": [
  {
   "cell_type": "code",
   "execution_count": 65,
   "id": "9e58a0a8-9628-49eb-b264-c22c4989644f",
   "metadata": {},
   "outputs": [],
   "source": [
    "def multiply(a, b):\n",
    "    if len(a[0]) != len(b):\n",
    "        print (\"Incompatible matrices\")\n",
    "        return None\n",
    "    \n",
    "    heigth = len(a)\n",
    "    width = len(b[0])\n",
    "    common = len(a[0])\n",
    "    \n",
    "    result = [[0 for x in range(width)] for y in range(heigth)]\n",
    "    for i in range(heigth):\n",
    "        for j in range(width):\n",
    "            for k in range(common):\n",
    "                result[i][j] += a[i][k] * b[k][j]\n",
    "    return result\n",
    "  "
   ]
  },
  {
   "cell_type": "code",
   "execution_count": 66,
   "id": "a01521b2-2c7b-45b2-ac5e-d335f5987d2f",
   "metadata": {},
   "outputs": [],
   "source": [
    "A = [[1,2,3],[4,5,6]]\n",
    "B = [[7,8,9],[9,10,8],[11,12,8]]\n"
   ]
  },
  {
   "cell_type": "code",
   "execution_count": 67,
   "id": "90c14e0e-d332-41c3-b32f-8a81673d389d",
   "metadata": {},
   "outputs": [
    {
     "name": "stdout",
     "output_type": "stream",
     "text": [
      "[[58, 64, 49], [139, 154, 124]]\n"
     ]
    }
   ],
   "source": [
    "print(multiply(A,B))"
   ]
  },
  {
   "cell_type": "code",
   "execution_count": 68,
   "id": "64173c73-95db-49c7-8278-dc6645ba0908",
   "metadata": {},
   "outputs": [
    {
     "name": "stdout",
     "output_type": "stream",
     "text": [
      "[[ 58  64  49]\n",
      " [139 154 124]]\n"
     ]
    }
   ],
   "source": [
    "import numpy as np\n",
    "print(np.dot(A,B))"
   ]
  },
  {
   "cell_type": "code",
   "execution_count": 69,
   "id": "0504b109-8607-4e8c-a998-d9629ba50b18",
   "metadata": {},
   "outputs": [
    {
     "name": "stdout",
     "output_type": "stream",
     "text": [
      "[[5], [14]]\n"
     ]
    }
   ],
   "source": [
    "A = [[1,2],[4,5]]\n",
    "B = [[1],[2]]\n",
    "print(multiply(A,B))"
   ]
  },
  {
   "cell_type": "code",
   "execution_count": null,
   "id": "2b36f5e6-b5a7-4c11-a719-f936f4201c8c",
   "metadata": {},
   "outputs": [],
   "source": []
  }
 ],
 "metadata": {
  "kernelspec": {
   "display_name": "Python 3",
   "language": "python",
   "name": "python3"
  },
  "language_info": {
   "codemirror_mode": {
    "name": "ipython",
    "version": 3
   },
   "file_extension": ".py",
   "mimetype": "text/x-python",
   "name": "python",
   "nbconvert_exporter": "python",
   "pygments_lexer": "ipython3",
   "version": "3.8.10"
  }
 },
 "nbformat": 4,
 "nbformat_minor": 5
}
