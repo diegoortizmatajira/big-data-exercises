{
 "cells": [
  {
   "cell_type": "markdown",
   "id": "5401c390-bbad-4f0f-8a11-84aeac3d0dd3",
   "metadata": {},
   "source": [
    "# Install dependencies"
   ]
  },
  {
   "cell_type": "code",
   "execution_count": 3,
   "id": "6dffd5c8-1104-41a9-8eb5-b383e52b5e53",
   "metadata": {},
   "outputs": [
    {
     "name": "stdout",
     "output_type": "stream",
     "text": [
      "Collecting ibm_watson\n",
      "  Downloading ibm-watson-5.1.0.tar.gz (382 kB)\n",
      "Requirement already satisfied: requests<3.0,>=2.0 in c:\\tools\\anaconda3\\envs\\lambton\\lib\\site-packages (from ibm_watson) (2.25.1)\n",
      "Requirement already satisfied: python_dateutil>=2.5.3 in c:\\tools\\anaconda3\\envs\\lambton\\lib\\site-packages (from ibm_watson) (2.8.1)\n",
      "Collecting websocket-client==0.48.0\n",
      "  Downloading websocket_client-0.48.0-py2.py3-none-any.whl (198 kB)\n",
      "Collecting ibm_cloud_sdk_core>=3.3.6\n",
      "  Downloading ibm-cloud-sdk-core-3.10.0.tar.gz (39 kB)\n",
      "Requirement already satisfied: six in c:\\tools\\anaconda3\\envs\\lambton\\lib\\site-packages (from websocket-client==0.48.0->ibm_watson) (1.15.0)\n",
      "Collecting PyJWT<3.0.0,>=2.0.1\n",
      "  Downloading PyJWT-2.1.0-py3-none-any.whl (16 kB)\n",
      "Requirement already satisfied: idna<3,>=2.5 in c:\\tools\\anaconda3\\envs\\lambton\\lib\\site-packages (from requests<3.0,>=2.0->ibm_watson) (2.10)\n",
      "Requirement already satisfied: chardet<5,>=3.0.2 in c:\\tools\\anaconda3\\envs\\lambton\\lib\\site-packages (from requests<3.0,>=2.0->ibm_watson) (4.0.0)\n",
      "Requirement already satisfied: certifi>=2017.4.17 in c:\\tools\\anaconda3\\envs\\lambton\\lib\\site-packages (from requests<3.0,>=2.0->ibm_watson) (2021.5.30)\n",
      "Requirement already satisfied: urllib3<1.27,>=1.21.1 in c:\\tools\\anaconda3\\envs\\lambton\\lib\\site-packages (from requests<3.0,>=2.0->ibm_watson) (1.26.4)\n",
      "Building wheels for collected packages: ibm-watson, ibm-cloud-sdk-core\n",
      "  Building wheel for ibm-watson (setup.py): started\n",
      "  Building wheel for ibm-watson (setup.py): finished with status 'done'\n",
      "  Created wheel for ibm-watson: filename=ibm_watson-5.1.0-py3-none-any.whl size=375438 sha256=8b28f789a87ebeb9641edf4d1fda31764ff69313205c9001696ebae6412fffc8\n",
      "  Stored in directory: c:\\users\\diegoortizmatajira\\appdata\\local\\pip\\cache\\wheels\\e6\\e5\\cf\\9e0c46ec51165c2a61af7f2d4fdd91df9c96071bb51264c828\n",
      "  Building wheel for ibm-cloud-sdk-core (setup.py): started\n",
      "  Building wheel for ibm-cloud-sdk-core (setup.py): finished with status 'done'\n",
      "  Created wheel for ibm-cloud-sdk-core: filename=ibm_cloud_sdk_core-3.10.0-py3-none-any.whl size=60913 sha256=48e614fe3e16266220c9f0b0b088aa41d71572784880209828c54faea685a70c\n",
      "  Stored in directory: c:\\users\\diegoortizmatajira\\appdata\\local\\pip\\cache\\wheels\\25\\f3\\b1\\1da82e99b552ed44485071ba233652b9f46c06a55853eac780\n",
      "Successfully built ibm-watson ibm-cloud-sdk-core\n",
      "Installing collected packages: PyJWT, websocket-client, ibm-cloud-sdk-core, ibm-watson\n",
      "Successfully installed PyJWT-2.1.0 ibm-cloud-sdk-core-3.10.0 ibm-watson-5.1.0 websocket-client-0.48.0\n"
     ]
    }
   ],
   "source": [
    "!pip install ibm_watson"
   ]
  },
  {
   "cell_type": "markdown",
   "id": "182660fd-d5b7-4f16-aa36-c32e56b1e3fb",
   "metadata": {},
   "source": [
    "# Authenticate"
   ]
  },
  {
   "cell_type": "code",
   "execution_count": 4,
   "id": "4f36c259-71a6-42a3-931a-f7aa5fcee5c7",
   "metadata": {},
   "outputs": [],
   "source": [
    "url = \"https://api.us-south.text-to-speech.watson.cloud.ibm.com/instances/a41f9410-ca76-4fec-b0b6-f7df007763af\"\n",
    "apikey = \"0DhL30aRJ39BHTqjFaKq29f7sx9eFdjeSRlJWPCauhcp\""
   ]
  },
  {
   "cell_type": "code",
   "execution_count": 5,
   "id": "d5407356-bd36-4218-9f35-4cd6d8311de7",
   "metadata": {},
   "outputs": [],
   "source": [
    "from ibm_watson import TextToSpeechV1\n",
    "from ibm_cloud_sdk_core.authenticators import IAMAuthenticator"
   ]
  },
  {
   "cell_type": "code",
   "execution_count": 7,
   "id": "0b4618f4-c77c-49f7-a56a-a9ddd5147bc8",
   "metadata": {},
   "outputs": [],
   "source": [
    "authenticator = IAMAuthenticator(apikey)\n",
    "tts = TextToSpeechV1(authenticator = authenticator)\n",
    "tts.set_service_url(url)"
   ]
  },
  {
   "cell_type": "markdown",
   "id": "a528effe-4133-4213-9420-3f91d24ff42a",
   "metadata": {},
   "source": [
    "# Convert a string"
   ]
  },
  {
   "cell_type": "code",
   "execution_count": 9,
   "id": "4d58982c-a39a-4ef9-92d1-ac19b447f734",
   "metadata": {},
   "outputs": [],
   "source": [
    "with open('./speech.mp3', 'wb') as audio_file:\n",
    "    res = tts.synthesize('Hello world!', accept='audio/mp3', voice='en-US_AllisonV3Voice').get_result()\n",
    "    audio_file.write(res.content)"
   ]
  },
  {
   "cell_type": "markdown",
   "id": "703c079a-b1a2-49a1-840e-711f8592aab2",
   "metadata": {},
   "source": [
    "# Convert from a file"
   ]
  },
  {
   "cell_type": "code",
   "execution_count": 11,
   "id": "2854c4a6-f4a4-4e54-873b-f515bfdf77f0",
   "metadata": {},
   "outputs": [],
   "source": [
    "with open('transcript.txt', 'r') as f:\n",
    "    text = f.readlines()"
   ]
  },
  {
   "cell_type": "code",
   "execution_count": 12,
   "id": "554afb71-e897-418c-bbfb-94c0fff50966",
   "metadata": {},
   "outputs": [
    {
     "data": {
      "text/plain": [
       "['A long time ago, in a galaxy far, far, awayâ€¦\\n',\n",
       " '\\n',\n",
       " 'A vast sea of stars serves as the backdrop for the main title. War drums echo through the heavens as a rollup slowly crawls into infinity.\\n',\n",
       " '\\n',\n",
       " \"It is a period of civil war. Rebel spaceships, striking from a hidden base,have won their first victory against the evil Galactic Empire. During the Battle of Scarrif,Rogue one emanaged to steal secret plans to the Empire's ultimate weapon,the Death Star, an armored space station with enough power to destroy an entire planet. Pursued by the Empire's sinister agents,Princess Leia races home aboard her starship, custodian of the stolen plans that can save her people and restore freedom to the galaxyâ€¦\\n\",\n",
       " '\\n',\n",
       " 'The awesome yellow planet of Tatooine emerges from a total eclipse, her two moons glowing against the darkness. A tiny silver spacecraft, a Rebel Blockade Runner firing lasers from the back of the ship, races through space. It is pursed by a giant Imperial Stardestroyer. Hundreds of deadly laserbolts streak from the Imperial Stardestroyer, causing the main solar fin of the Rebel craft to disintegrate.\\n',\n",
       " '\\n',\n",
       " 'INT. REBEL BLOCKADE RUNNER - MAIN PASSAGEWAY\\n',\n",
       " '\\n',\n",
       " 'An explosion rocks the ship as two robots, Artoo-Detoo (R2- D2) and See-Threepio (C-3PO) struggle to make their way through the shaking, bouncing passageway. Both robots are old and battered. Artoo is a short, claw-armed tripod. His face is a mass of computer lights surrounding a radar eye. Threepio, on the other hand, is a tall, slender robot of human proportions. He has a gleaming bronze-like metallic surface of an Art Deco design. Another blast shakes them as they struggle along their way. ']"
      ]
     },
     "execution_count": 12,
     "metadata": {},
     "output_type": "execute_result"
    }
   ],
   "source": [
    "text"
   ]
  },
  {
   "cell_type": "code",
   "execution_count": 15,
   "id": "4871a321-0454-4ed6-b792-9bb81a7759f6",
   "metadata": {},
   "outputs": [],
   "source": [
    "text = [line.replace('\\n', '') for line in text]\n",
    "text = ''.join(str(line) for line in text)"
   ]
  },
  {
   "cell_type": "code",
   "execution_count": 16,
   "id": "c6ebd5bf-a52e-4495-9b07-9b7ac323e03f",
   "metadata": {},
   "outputs": [
    {
     "data": {
      "text/plain": [
       "\"A long time ago, in a galaxy far, far, awayâ€¦A vast sea of stars serves as the backdrop for the main title. War drums echo through the heavens as a rollup slowly crawls into infinity.It is a period of civil war. Rebel spaceships, striking from a hidden base,have won their first victory against the evil Galactic Empire. During the Battle of Scarrif,Rogue one emanaged to steal secret plans to the Empire's ultimate weapon,the Death Star, an armored space station with enough power to destroy an entire planet. Pursued by the Empire's sinister agents,Princess Leia races home aboard her starship, custodian of the stolen plans that can save her people and restore freedom to the galaxyâ€¦The awesome yellow planet of Tatooine emerges from a total eclipse, her two moons glowing against the darkness. A tiny silver spacecraft, a Rebel Blockade Runner firing lasers from the back of the ship, races through space. It is pursed by a giant Imperial Stardestroyer. Hundreds of deadly laserbolts streak from the Imperial Stardestroyer, causing the main solar fin of the Rebel craft to disintegrate.INT. REBEL BLOCKADE RUNNER - MAIN PASSAGEWAYAn explosion rocks the ship as two robots, Artoo-Detoo (R2- D2) and See-Threepio (C-3PO) struggle to make their way through the shaking, bouncing passageway. Both robots are old and battered. Artoo is a short, claw-armed tripod. His face is a mass of computer lights surrounding a radar eye. Threepio, on the other hand, is a tall, slender robot of human proportions. He has a gleaming bronze-like metallic surface of an Art Deco design. Another blast shakes them as they struggle along their way. \""
      ]
     },
     "execution_count": 16,
     "metadata": {},
     "output_type": "execute_result"
    }
   ],
   "source": [
    "text"
   ]
  },
  {
   "cell_type": "code",
   "execution_count": 18,
   "id": "38881dda-63c2-45a3-9aa7-cd26962f0259",
   "metadata": {},
   "outputs": [],
   "source": [
    "with open('./transcript.mp3', 'wb') as audio_file:\n",
    "    res = tts.synthesize(text, accept='audio/mp3', voice='en-US_AllisonV3Voice').get_result()\n",
    "    audio_file.write(res.content)"
   ]
  },
  {
   "cell_type": "markdown",
   "id": "cd6b89f0-3e38-474d-8c73-799c3d76d4a4",
   "metadata": {},
   "source": [
    "# Using new language models"
   ]
  },
  {
   "cell_type": "code",
   "execution_count": 19,
   "id": "006d4413-31ac-4453-aad4-d96df4043215",
   "metadata": {},
   "outputs": [],
   "source": [
    "voice = 'fr-FR_ReneeV3Voice'"
   ]
  },
  {
   "cell_type": "code",
   "execution_count": 21,
   "id": "b9450f19-7ed0-49ee-bb97-40f5331c1869",
   "metadata": {},
   "outputs": [],
   "source": [
    "with open('french_transcript.txt', 'r') as ff:\n",
    "    text = ff.readlines()\n",
    "text = [line.replace('\\n', '') for line in text]\n",
    "text = ''.join(str(line) for line in text)"
   ]
  },
  {
   "cell_type": "code",
   "execution_count": 22,
   "id": "fc02872b-7994-4152-8270-59fe1a6e152e",
   "metadata": {},
   "outputs": [
    {
     "data": {
      "text/plain": [
       "\"LA GUERRE DES ETOILESIl y a bien longtemps, dans une trÃ¨s lointaine galaxie . . .Un champ d'Ã©toiles sert de toile de fond au titre principal. Le bruit des dÃ©tonations rÃ©sonne dans le ciel tandis qu'un vaisseau s'Ã©loigne lentement dans l'infinitÃ©.EPISODE IVUN NOUVEL ESPOIRNous sommes en pleine guerre civile.En frappant depuis une base inconnue, les vaisseaux spatiaux Rebelles ont remportÃ© leur premiÃ¨re victoire contre l'Empire Galactique.Au cours de la bataille, les espions Rebelles ont rÃ©ussi Ã\\xa0 voler les plans secrets de l'ultime arme de l'Empire, l'ETOILE NOIRE, une station spatiale blindÃ©e capable de dÃ©truire une planÃ¨te.Poursuivie par les sinistres agents de l'Empire, la princesse Leia fonce vers sa planÃ¨te Ã\\xa0 bord de son vaisseau spatial, en veillant prÃ©cieusement sur les plans dÃ©robÃ©s pouvant sauver son peuple et rendre sa libertÃ© Ã\\xa0 la galaxie . . . \""
      ]
     },
     "execution_count": 22,
     "metadata": {},
     "output_type": "execute_result"
    }
   ],
   "source": [
    "text"
   ]
  },
  {
   "cell_type": "code",
   "execution_count": 23,
   "id": "af3f6119-9fa2-4bda-ade1-68c3eb8677c4",
   "metadata": {},
   "outputs": [],
   "source": [
    "with open('./french_transcript.mp3', 'wb') as audio_file:\n",
    "    res = tts.synthesize(text, accept='audio/mp3', voice=voice).get_result()\n",
    "    audio_file.write(res.content)"
   ]
  },
  {
   "cell_type": "markdown",
   "id": "096df1a7-7d94-4fc7-95af-87364a6c3fe9",
   "metadata": {},
   "source": [
    "# Using Spanish"
   ]
  },
  {
   "cell_type": "code",
   "execution_count": 25,
   "id": "345d7054-69c0-48ae-8ce9-a2d175a6a638",
   "metadata": {},
   "outputs": [],
   "source": [
    "voice = 'es-LA_SofiaV3Voice'"
   ]
  },
  {
   "cell_type": "code",
   "execution_count": 26,
   "id": "d9369c51-6897-44d9-8ea4-4c0ad264930b",
   "metadata": {},
   "outputs": [],
   "source": [
    "with open('spanish_transcript.txt', 'r') as sf:\n",
    "    text = sf.readlines()\n",
    "text = [line.replace('\\n', '') for line in text]\n",
    "text = ''.join(str(line) for line in text)"
   ]
  },
  {
   "cell_type": "code",
   "execution_count": 27,
   "id": "f511d2b4-e44f-4071-96bc-d4f282cedd38",
   "metadata": {},
   "outputs": [
    {
     "data": {
      "text/plain": [
       "'Son tiempos de guerra civil.Naves rebeldes han atacado desde una base secreta y han obtenido su primeravictoria contra el malvadoImperio GalÃ¡ctico.Durante la batalla, espÃ\\xadasrebeldes lograron robar losplanos secretos del arma mÃ¡s extrema del Imperio,la ESTRELLA DE LA MUERTE, una estaciÃ³nespacial blindada consuficiente potencia paradestruir un planeta entero.Perseguida por lossiniestros agentes delImperio, la Princesa Leiase dirige velozmente a casaen su nave espacial,mientras resguarda losplanos que pueden salvara su pueblo y restaurar lalibertad en la galaxiaâ€¦'"
      ]
     },
     "execution_count": 27,
     "metadata": {},
     "output_type": "execute_result"
    }
   ],
   "source": [
    "text"
   ]
  },
  {
   "cell_type": "code",
   "execution_count": 28,
   "id": "d2aa77c0-e25a-4c9b-a2ae-f9dea6c96c65",
   "metadata": {},
   "outputs": [],
   "source": [
    "with open('./spanish_transcript.mp3', 'wb') as audio_file:\n",
    "    res = tts.synthesize(text, accept='audio/mp3', voice=voice).get_result()\n",
    "    audio_file.write(res.content)"
   ]
  },
  {
   "cell_type": "code",
   "execution_count": null,
   "id": "aa9c29e9-21f0-4bca-a2a7-c873aacbfcfa",
   "metadata": {},
   "outputs": [],
   "source": []
  }
 ],
 "metadata": {
  "kernelspec": {
   "display_name": "Python 3",
   "language": "python",
   "name": "python3"
  },
  "language_info": {
   "codemirror_mode": {
    "name": "ipython",
    "version": 3
   },
   "file_extension": ".py",
   "mimetype": "text/x-python",
   "name": "python",
   "nbconvert_exporter": "python",
   "pygments_lexer": "ipython3",
   "version": "3.8.10"
  }
 },
 "nbformat": 4,
 "nbformat_minor": 5
}
