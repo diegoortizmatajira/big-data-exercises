{
 "cells": [
  {
   "cell_type": "code",
   "execution_count": 6,
   "id": "5b7dd3a5-7253-43bb-8d55-000ba2f4e6d0",
   "metadata": {},
   "outputs": [
    {
     "name": "stdout",
     "output_type": "stream",
     "text": [
      "Requirement already satisfied: beautifulsoup4 in c:\\tools\\anaconda3\\envs\\lambton\\lib\\site-packages (4.9.3)\n",
      "Requirement already satisfied: soupsieve>1.2 in c:\\tools\\anaconda3\\envs\\lambton\\lib\\site-packages (from beautifulsoup4) (2.2.1)\n",
      "Collecting html5lib\n",
      "  Downloading html5lib-1.1-py2.py3-none-any.whl (112 kB)\n",
      "Requirement already satisfied: webencodings in c:\\tools\\anaconda3\\envs\\lambton\\lib\\site-packages (from html5lib) (0.5.1)\n",
      "Requirement already satisfied: six>=1.9 in c:\\tools\\anaconda3\\envs\\lambton\\lib\\site-packages (from html5lib) (1.15.0)\n",
      "Installing collected packages: html5lib\n",
      "Successfully installed html5lib-1.1\n"
     ]
    }
   ],
   "source": [
    "!pip install beautifulsoup4\n",
    "!pip install html5lib"
   ]
  },
  {
   "cell_type": "code",
   "execution_count": 8,
   "id": "ee26e57c-726f-4827-b01b-5b89ce7562fe",
   "metadata": {},
   "outputs": [
    {
     "name": "stdout",
     "output_type": "stream",
     "text": [
      "<Response [200]>\n"
     ]
    }
   ],
   "source": [
    "import requests\n",
    "page = requests.get(\"https://torontosun.com/category/news/\")\n",
    "print(page)"
   ]
  },
  {
   "cell_type": "code",
   "execution_count": 12,
   "id": "8fa0a4a4-acd9-4261-9506-cf66834fa73d",
   "metadata": {},
   "outputs": [],
   "source": [
    "from bs4 import BeautifulSoup\n",
    "soup = BeautifulSoup(page.content, 'html.parser')"
   ]
  },
  {
   "cell_type": "code",
   "execution_count": 16,
   "id": "704216cf-098c-46b8-8c29-0fab21be8c74",
   "metadata": {},
   "outputs": [
    {
     "data": {
      "text/plain": [
       "[<span class=\"article-card__headline-clamp\">Toronto marks three years since deadly Danforth mass shooting</span>,\n",
       " <span class=\"article-card__headline-clamp\">WestJet bails out of pandemic compensation talks with feds</span>,\n",
       " <span class=\"article-card__headline-clamp\">Lovers in a dangerous time? Couple’s kiss shatters Montreal barbershop window​​</span>,\n",
       " <span class=\"article-card__headline-clamp\">Call for Marineland to free last surviving orca after 'heartbreaking' video surfaces</span>,\n",
       " <span class=\"article-card__headline-clamp\">HUNTER: Who killed travel agent Dianna Sandeman? And why?</span>,\n",
       " <span class=\"article-card__headline-clamp\">Ontario reports 185 COVID-19 cases as Toronto opens vax mass clinics to walk-ins</span>,\n",
       " <span class=\"article-card__headline-clamp\">Man stabbed in Vaughan while trying to sell dog: Cops</span>,\n",
       " <span class=\"article-card__headline-clamp\">Toronto marks three years since deadly Danforth mass shooting</span>,\n",
       " <span class=\"article-card__headline-clamp\">WARMINGTON: Suspect in alleged deliberate deadly hit-run now in custody</span>,\n",
       " <span class=\"article-card__headline-clamp\">Dozens of arrests as Lamport Stadium encampment eviction turns violent</span>,\n",
       " <span class=\"article-card__headline-clamp\">Air Canada walks back announcement of India passenger flight resumption</span>,\n",
       " <span class=\"article-card__headline-clamp\">ASK AMY: Mother wonders if daughter is too happy</span>,\n",
       " <span class=\"article-card__headline-clamp\">London Knights prospect tells NHL teams not to draft him after distributing woman’s intimate photo</span>,\n",
       " <span class=\"article-card__headline-clamp\">Ex-porn star Mia Khalifa torpedoes wedding to tattooed Swedish chef</span>,\n",
       " <span class=\"article-card__headline-clamp\">With expansion draft over, heavy lifting for Leafs GM Dubas about to get underway</span>,\n",
       " <span class=\"article-card__headline-clamp\">Ontario reports 185 COVID-19 cases as Toronto opens vax mass clinics to walk-ins</span>,\n",
       " <span class=\"article-card__headline-clamp\">Linda O'Leary's defence points to boat light evidence in closing arguments</span>,\n",
       " <span class=\"article-card__headline-clamp\">Vax certificates may allow faster reopening, incentivize: Ontario science table</span>,\n",
       " <span class=\"article-card__headline-clamp\">Cost drives down public support for renaming Dundas St., says poll</span>,\n",
       " <span class=\"article-card__headline-clamp\">Student unmasking advice concerning: ETFO</span>,\n",
       " <span class=\"article-card__headline-clamp\">Remains of fourth Canadian pulled from Florida condo collapse identified by police</span>,\n",
       " <span class=\"article-card__headline-clamp\">WARMINGTON: Blood on Canada's hands if we don't save Afghan 'terps'</span>,\n",
       " <span class=\"article-card__headline-clamp\">U.S. extends travel restrictions at Canada, Mexico land borders through Aug. 21</span>,\n",
       " <span class=\"article-card__headline-clamp\">BATTLE HEADS TO COURT: Green party execs end ceasefire with leader Annamie Paul</span>,\n",
       " <span class=\"article-card__headline-clamp\">Almost half of vaxxed Canadians unwilling to hang with unvaxxed: Poll</span>,\n",
       " <span class=\"article-card__headline-clamp\">Kidnapped child saved from 'monster' after neighbour heard her pleas for help</span>,\n",
       " <span class=\"article-card__headline-clamp\">Remains of fourth Canadian pulled from Florida condo collapse identified by police</span>,\n",
       " <span class=\"article-card__headline-clamp\">HUNTER: New book claims Maxwell fuelled Epstein's 'obsession' for sex with underage girls</span>,\n",
       " <span class=\"article-card__headline-clamp\">Gun that killed U.S. outlaw Billy the Kid to be sold</span>,\n",
       " <span class=\"article-card__headline-clamp\">Ohio man who identified as 'incel' charged with planning mass shooting of women</span>,\n",
       " <span class=\"article-card__headline-clamp\">Kidnapped child saved from 'monster' after neighbour heard her pleas for help</span>,\n",
       " <span class=\"article-card__headline-clamp\">Man stabbed in Vaughan while trying to sell dog: Cops</span>,\n",
       " <span class=\"article-card__headline-clamp\">WARMINGTON: Suspect in alleged deliberate deadly hit-run now in custody</span>,\n",
       " <span class=\"article-card__headline-clamp\">HUNTER: New book claims Maxwell fuelled Epstein's 'obsession' for sex with underage girls</span>,\n",
       " <span class=\"article-card__headline-clamp\">Man accused of breaking into Toronto home, cooking meal</span>,\n",
       " <span class=\"article-card__headline-clamp\">British library apologizes for hiring 'rainbow dildo butt monkey' for kids’ event</span>,\n",
       " <span class=\"article-card__headline-clamp\">Man ties bed sheets together to escape 4th floor hotel quarantine: Australian police</span>,\n",
       " <span class=\"article-card__headline-clamp\">Woman busted after commenting on her own ‘Most Wanted’ post</span>,\n",
       " <span class=\"article-card__headline-clamp\">Texas man has hours-long standoff with police over overgrown lawn</span>,\n",
       " <span class=\"article-card__headline-clamp\">ODDS AND ENDS: Bowling ball discovery and other offbeat offerings</span>,\n",
       " <span class=\"article-card__headline-clamp\">Air Canada to add up to 220 daily flights between Canada and U.S.</span>,\n",
       " <span class=\"article-card__headline-clamp\">Porter Airlines to double fleet with major Embraer jets order, add new routes</span>,\n",
       " <span class=\"article-card__headline-clamp\">Spenders celebrated Canada Day with spending</span>,\n",
       " <span class=\"article-card__headline-clamp\">Canada adds 230,700 jobs in June, unemployment falls to 7.8%</span>,\n",
       " <span class=\"article-card__headline-clamp\">Metrolinx CEO says office workers will return to T.O.'s financial district</span>,\n",
       " <span class=\"article-card__headline-clamp\">World Wide Web source code NFT sells for US$5.4 million at Sotheby's</span>,\n",
       " <span class=\"article-card__headline-clamp\">Seoul using AI to detect and prevent suicide attempts on bridges</span>,\n",
       " <span class=\"article-card__headline-clamp\">Seoul using AI to detect and prevent suicide attempts on bridges</span>,\n",
       " <span class=\"article-card__headline-clamp\">Trump joins Toronto-based video platform Rumble ahead of Ohio rally</span>,\n",
       " <span class=\"article-card__headline-clamp\">Trump joins Toronto-based video platform Rumble ahead of Ohio rally</span>]"
      ]
     },
     "execution_count": 16,
     "metadata": {},
     "output_type": "execute_result"
    }
   ],
   "source": [
    "soup.find_all('span', class_='article-card__headline-clamp')"
   ]
  },
  {
   "cell_type": "code",
   "execution_count": null,
   "id": "0ef9c54b-7ffe-4f9e-b760-cc26f930c8a5",
   "metadata": {},
   "outputs": [],
   "source": []
  }
 ],
 "metadata": {
  "kernelspec": {
   "display_name": "Python 3",
   "language": "python",
   "name": "python3"
  },
  "language_info": {
   "codemirror_mode": {
    "name": "ipython",
    "version": 3
   },
   "file_extension": ".py",
   "mimetype": "text/x-python",
   "name": "python",
   "nbconvert_exporter": "python",
   "pygments_lexer": "ipython3",
   "version": "3.8.10"
  }
 },
 "nbformat": 4,
 "nbformat_minor": 5
}
